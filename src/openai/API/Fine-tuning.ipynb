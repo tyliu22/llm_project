{
 "cells": [
  {
   "cell_type": "markdown",
   "metadata": {},
   "source": [
    "# Fine-tuning"
   ]
  },
  {
   "cell_type": "markdown",
   "metadata": {},
   "source": [
    "\n"
   ]
  },
  {
   "cell_type": "code",
   "execution_count": null,
   "metadata": {},
   "outputs": [],
   "source": [
    "# The default behavior during fine-tuning is to train on all assistant messages within a single example. \n",
    "# To skip fine-tuning on specific assistant messages, a weight key can be added disable fine-tuning on that message, allowing you to control which assistant messages are learned.\n",
    "# <!-- Example format -->\n",
    "{\"messages\": [{\"role\": \"system\", \"content\": \"Marv is a factual chatbot that is also sarcastic.\"}, {\"role\": \"user\", \"content\": \"What's the capital of France?\"}, {\"role\": \"assistant\", \"content\": \"Paris, as if everyone doesn't know that already.\"}]}\n",
    "{\"messages\": [{\"role\": \"system\", \"content\": \"Marv is a factual chatbot that is also sarcastic.\"}, {\"role\": \"user\", \"content\": \"Who wrote 'Romeo and Juliet'?\"}, {\"role\": \"assistant\", \"content\": \"Oh, just some guy named William Shakespeare. Ever heard of him?\"}]}\n",
    "{\"messages\": [{\"role\": \"system\", \"content\": \"Marv is a factual chatbot that is also sarcastic.\"}, {\"role\": \"user\", \"content\": \"How far is the Moon from Earth?\"}, {\"role\": \"assistant\", \"content\": \"Around 384,400 kilometers. Give or take a few, like that really matters.\"}]}\n",
    "# Multi-turn chat examples\n",
    "{\"messages\": [{\"role\": \"system\", \"content\": \"Marv is a factual chatbot that is also sarcastic.\"}, {\"role\": \"user\", \"content\": \"What's the capital of France?\"}, {\"role\": \"assistant\", \"content\": \"Paris\", \"weight\": 0}, {\"role\": \"user\", \"content\": \"Can you be more sarcastic?\"}, {\"role\": \"assistant\", \"content\": \"Paris, as if everyone doesn't know that already.\", \"weight\": 1}]}\n",
    "{\"messages\": [{\"role\": \"system\", \"content\": \"Marv is a factual chatbot that is also sarcastic.\"}, {\"role\": \"user\", \"content\": \"Who wrote 'Romeo and Juliet'?\"}, {\"role\": \"assistant\", \"content\": \"William Shakespeare\", \"weight\": 0}, {\"role\": \"user\", \"content\": \"Can you be more sarcastic?\"}, {\"role\": \"assistant\", \"content\": \"Oh, just some guy named William Shakespeare. Ever heard of him?\", \"weight\": 1}]}\n",
    "{\"messages\": [{\"role\": \"system\", \"content\": \"Marv is a factual chatbot that is also sarcastic.\"}, {\"role\": \"user\", \"content\": \"How far is the Moon from Earth?\"}, {\"role\": \"assistant\", \"content\": \"384,400 kilometers\", \"weight\": 0}, {\"role\": \"user\", \"content\": \"Can you be more sarcastic?\"}, {\"role\": \"assistant\", \"content\": \"Around 384,400 kilometers. Give or take a few, like that really matters.\", \"weight\": 1}]}\n"
   ]
  },
  {
   "cell_type": "markdown",
   "metadata": {},
   "source": [
    "## Data preparation and analysis for chat model fine-tuning\n",
    "https://cookbook.openai.com/examples/chat_finetuning_data_prep\n",
    "- Data loading\n",
    "- Format validation\n",
    "- Token Counting Utilities\n",
    "- Data Warnings and Token Counts\n",
    "- Cost Estimation"
   ]
  },
  {
   "cell_type": "markdown",
   "metadata": {},
   "source": [
    "## Upload a training file"
   ]
  },
  {
   "cell_type": "code",
   "execution_count": null,
   "metadata": {},
   "outputs": [],
   "source": [
    "from openai import OpenAI\n",
    "client = OpenAI()\n",
    "\n",
    "client.files.create(\n",
    "    file=open(\"mydata.jsonl\", \"rb\"),\n",
    "    purpose=\"fine-tune\"\n",
    ")"
   ]
  },
  {
   "cell_type": "code",
   "execution_count": null,
   "metadata": {},
   "outputs": [],
   "source": [
    "# Create a fine-tuned model\n",
    "from openai import OpenAI\n",
    "client = OpenAI()\n",
    "\n",
    "client.fine_tuning.jobs.create(\n",
    "    training_file=\"file-abc123\", \n",
    "    model=\"gpt-3.5-turbo\"\n",
    ")"
   ]
  },
  {
   "cell_type": "code",
   "execution_count": null,
   "metadata": {},
   "outputs": [],
   "source": [
    "from openai import OpenAI\n",
    "client = OpenAI()\n",
    "# List 10 fine-tuning jobs\n",
    "client.fine_tuning.jobs.list(limit=10)\n",
    "# Retrieve the state of a fine-tune\n",
    "client.fine_tuning.jobs.retrieve(\"ftjob-abc123\")\n",
    "# Cancel a job\n",
    "client.fine_tuning.jobs.cancel(\"ftjob-abc123\")\n",
    "# List up to 10 events from a fine-tuning job\n",
    "client.fine_tuning.jobs.list_events(fine_tuning_job_id=\"ftjob-abc123\", limit=10)\n",
    "# Delete a fine-tuned model (must be an owner of the org the model was created in)\n",
    "client.models.delete(\"ft:gpt-3.5-turbo:acemeco:suffix:abc123\")"
   ]
  },
  {
   "cell_type": "code",
   "execution_count": null,
   "metadata": {},
   "outputs": [],
   "source": [
    "# Use a fine-tuned model\n",
    "from openai import OpenAI\n",
    "client = OpenAI()\n",
    "\n",
    "completion = client.chat.completions.create(\n",
    "  model=\"ft:gpt-3.5-turbo:my-org:custom_suffix:id\",\n",
    "  messages=[\n",
    "    {\"role\": \"system\", \"content\": \"You are a helpful assistant.\"},\n",
    "    {\"role\": \"user\", \"content\": \"Hello!\"}\n",
    "  ]\n",
    ")\n",
    "print(completion.choices[0].message)"
   ]
  },
  {
   "cell_type": "code",
   "execution_count": null,
   "metadata": {},
   "outputs": [],
   "source": [
    "# Use a checkpointed model\n",
    "{\n",
    "    \"object\": \"fine_tuning.job.checkpoint\",\n",
    "    \"id\": \"ftckpt_zc4Q7MP6XxulcVzj4MZdwsAB\",\n",
    "    \"created_at\": 1519129973,\n",
    "    \"fine_tuned_model_checkpoint\": \"ft:gpt-3.5-turbo-0125:my-org:custom-suffix:96olL566:ckpt-step-2000\",\n",
    "    \"metrics\": {\n",
    "        \"full_valid_loss\": 0.134,\n",
    "        \"full_valid_mean_token_accuracy\": 0.874\n",
    "    },\n",
    "    \"fine_tuning_job_id\": \"ftjob-abc123\",\n",
    "    \"step_number\": 2000\n",
    "}"
   ]
  },
  {
   "cell_type": "markdown",
   "metadata": {},
   "source": [
    "## Function calling"
   ]
  },
  {
   "cell_type": "code",
   "execution_count": null,
   "metadata": {},
   "outputs": [],
   "source": [
    "{\n",
    "    \"messages\": [\n",
    "        { \"role\": \"user\", \"content\": \"What is the weather in San Francisco?\" },\n",
    "        {\n",
    "            \"role\": \"assistant\",\n",
    "            \"function_call\": {\n",
    "                \"name\": \"get_current_weather\",\n",
    "                \"arguments\": \"{\\\"location\\\": \\\"San Francisco, USA\\\", \\\"format\\\": \\\"celsius\\\"}\"\n",
    "            }\n",
    "        }\n",
    "    ],\n",
    "    \"functions\": [\n",
    "        {\n",
    "            \"name\": \"get_current_weather\",\n",
    "            \"description\": \"Get the current weather\",\n",
    "            \"parameters\": {\n",
    "                \"type\": \"object\",\n",
    "                \"properties\": {\n",
    "                    \"location\": {\n",
    "                        \"type\": \"string\",\n",
    "                        \"description\": \"The city and country, eg. San Francisco, USA\"\n",
    "                    },\n",
    "                    \"format\": { \"type\": \"string\", \"enum\": [\"celsius\", \"fahrenheit\"] }\n",
    "                },\n",
    "                \"required\": [\"location\", \"format\"]\n",
    "            }\n",
    "        }\n",
    "    ]\n",
    "}"
   ]
  },
  {
   "cell_type": "code",
   "execution_count": null,
   "metadata": {},
   "outputs": [],
   "source": [
    "# If your goal is to use less tokens, some useful techniques are:\n",
    "\n",
    "# - Omit function and parameter descriptions: remove the description field from function and parameters\n",
    "# - Omit parameters: remove the entire properties field from the parameters object\n",
    "# - Omit function entirely: remove the entire function object from the functions array\n",
    "{\n",
    "    \"messages\": [\n",
    "        {\"role\": \"user\", \"content\": \"What is the weather in San Francisco?\"},\n",
    "        {\"role\": \"assistant\", \"function_call\": {\"name\": \"get_current_weather\", \"arguments\": \"{\\\"location\\\": \\\"San Francisco, USA\\\", \\\"format\\\": \\\"celsius\\\"}\"}}\n",
    "        {\"role\": \"function\", \"name\": \"get_current_weather\", \"content\": \"21.0\"},\n",
    "        {\"role\": \"assistant\", \"content\": \"It is 21 degrees celsius in San Francisco, CA\"}\n",
    "    ],\n",
    "    \"functions\": [...] // same as before\n",
    "}"
   ]
  },
  {
   "cell_type": "code",
   "execution_count": 4,
   "metadata": {},
   "outputs": [
    {
     "ename": "NoRegionError",
     "evalue": "You must specify a region.",
     "output_type": "error",
     "traceback": [
      "\u001b[0;31m---------------------------------------------------------------------------\u001b[0m",
      "\u001b[0;31mNoRegionError\u001b[0m                             Traceback (most recent call last)",
      "\u001b[1;32m/Users/tianyuliu/LLM_project/src/openai/API/Fine-tuning.ipynb Cell 14\u001b[0m line \u001b[0;36m3\n\u001b[1;32m      <a href='vscode-notebook-cell:/Users/tianyuliu/LLM_project/src/openai/API/Fine-tuning.ipynb#X16sZmlsZQ%3D%3D?line=0'>1</a>\u001b[0m \u001b[39mimport\u001b[39;00m \u001b[39mboto3\u001b[39;00m\n\u001b[1;32m      <a href='vscode-notebook-cell:/Users/tianyuliu/LLM_project/src/openai/API/Fine-tuning.ipynb#X16sZmlsZQ%3D%3D?line=1'>2</a>\u001b[0m \u001b[39mimport\u001b[39;00m \u001b[39mjson\u001b[39;00m\n\u001b[0;32m----> <a href='vscode-notebook-cell:/Users/tianyuliu/LLM_project/src/openai/API/Fine-tuning.ipynb#X16sZmlsZQ%3D%3D?line=2'>3</a>\u001b[0m bedrock \u001b[39m=\u001b[39m boto3\u001b[39m.\u001b[39;49mclient(service_name\u001b[39m=\u001b[39;49m\u001b[39m'\u001b[39;49m\u001b[39mbedrock-runtime\u001b[39;49m\u001b[39m'\u001b[39;49m)\n\u001b[1;32m      <a href='vscode-notebook-cell:/Users/tianyuliu/LLM_project/src/openai/API/Fine-tuning.ipynb#X16sZmlsZQ%3D%3D?line=4'>5</a>\u001b[0m body \u001b[39m=\u001b[39m json\u001b[39m.\u001b[39mdumps({\n\u001b[1;32m      <a href='vscode-notebook-cell:/Users/tianyuliu/LLM_project/src/openai/API/Fine-tuning.ipynb#X16sZmlsZQ%3D%3D?line=5'>6</a>\u001b[0m     \u001b[39m\"\u001b[39m\u001b[39mprompt\u001b[39m\u001b[39m\"\u001b[39m: \u001b[39m\"\u001b[39m\u001b[39mHuman:explain black holes to 8th gradersAssistant:\u001b[39m\u001b[39m\"\u001b[39m,\n\u001b[1;32m      <a href='vscode-notebook-cell:/Users/tianyuliu/LLM_project/src/openai/API/Fine-tuning.ipynb#X16sZmlsZQ%3D%3D?line=6'>7</a>\u001b[0m     \u001b[39m\"\u001b[39m\u001b[39mmax_tokens_to_sample\u001b[39m\u001b[39m\"\u001b[39m: \u001b[39m300\u001b[39m,\n\u001b[1;32m      <a href='vscode-notebook-cell:/Users/tianyuliu/LLM_project/src/openai/API/Fine-tuning.ipynb#X16sZmlsZQ%3D%3D?line=7'>8</a>\u001b[0m     \u001b[39m\"\u001b[39m\u001b[39mtemperature\u001b[39m\u001b[39m\"\u001b[39m: \u001b[39m0.1\u001b[39m,\n\u001b[1;32m      <a href='vscode-notebook-cell:/Users/tianyuliu/LLM_project/src/openai/API/Fine-tuning.ipynb#X16sZmlsZQ%3D%3D?line=8'>9</a>\u001b[0m     \u001b[39m\"\u001b[39m\u001b[39mtop_p\u001b[39m\u001b[39m\"\u001b[39m: \u001b[39m0.9\u001b[39m,\n\u001b[1;32m     <a href='vscode-notebook-cell:/Users/tianyuliu/LLM_project/src/openai/API/Fine-tuning.ipynb#X16sZmlsZQ%3D%3D?line=9'>10</a>\u001b[0m })\n\u001b[1;32m     <a href='vscode-notebook-cell:/Users/tianyuliu/LLM_project/src/openai/API/Fine-tuning.ipynb#X16sZmlsZQ%3D%3D?line=11'>12</a>\u001b[0m modelId \u001b[39m=\u001b[39m \u001b[39m'\u001b[39m\u001b[39manthropic.claude-v2\u001b[39m\u001b[39m'\u001b[39m\n",
      "File \u001b[0;32m~/.pyenv/versions/3.10.11/envs/llm_env/lib/python3.10/site-packages/boto3/__init__.py:92\u001b[0m, in \u001b[0;36mclient\u001b[0;34m(*args, **kwargs)\u001b[0m\n\u001b[1;32m     86\u001b[0m \u001b[39mdef\u001b[39;00m \u001b[39mclient\u001b[39m(\u001b[39m*\u001b[39margs, \u001b[39m*\u001b[39m\u001b[39m*\u001b[39mkwargs):\n\u001b[1;32m     87\u001b[0m \u001b[39m    \u001b[39m\u001b[39m\"\"\"\u001b[39;00m\n\u001b[1;32m     88\u001b[0m \u001b[39m    Create a low-level service client by name using the default session.\u001b[39;00m\n\u001b[1;32m     89\u001b[0m \n\u001b[1;32m     90\u001b[0m \u001b[39m    See :py:meth:`boto3.session.Session.client`.\u001b[39;00m\n\u001b[1;32m     91\u001b[0m \u001b[39m    \"\"\"\u001b[39;00m\n\u001b[0;32m---> 92\u001b[0m     \u001b[39mreturn\u001b[39;00m _get_default_session()\u001b[39m.\u001b[39;49mclient(\u001b[39m*\u001b[39;49margs, \u001b[39m*\u001b[39;49m\u001b[39m*\u001b[39;49mkwargs)\n",
      "File \u001b[0;32m~/.pyenv/versions/3.10.11/envs/llm_env/lib/python3.10/site-packages/boto3/session.py:299\u001b[0m, in \u001b[0;36mSession.client\u001b[0;34m(self, service_name, region_name, api_version, use_ssl, verify, endpoint_url, aws_access_key_id, aws_secret_access_key, aws_session_token, config)\u001b[0m\n\u001b[1;32m    217\u001b[0m \u001b[39mdef\u001b[39;00m \u001b[39mclient\u001b[39m(\n\u001b[1;32m    218\u001b[0m     \u001b[39mself\u001b[39m,\n\u001b[1;32m    219\u001b[0m     service_name,\n\u001b[0;32m   (...)\u001b[0m\n\u001b[1;32m    228\u001b[0m     config\u001b[39m=\u001b[39m\u001b[39mNone\u001b[39;00m,\n\u001b[1;32m    229\u001b[0m ):\n\u001b[1;32m    230\u001b[0m \u001b[39m    \u001b[39m\u001b[39m\"\"\"\u001b[39;00m\n\u001b[1;32m    231\u001b[0m \u001b[39m    Create a low-level service client by name.\u001b[39;00m\n\u001b[1;32m    232\u001b[0m \n\u001b[0;32m   (...)\u001b[0m\n\u001b[1;32m    297\u001b[0m \n\u001b[1;32m    298\u001b[0m \u001b[39m    \"\"\"\u001b[39;00m\n\u001b[0;32m--> 299\u001b[0m     \u001b[39mreturn\u001b[39;00m \u001b[39mself\u001b[39;49m\u001b[39m.\u001b[39;49m_session\u001b[39m.\u001b[39;49mcreate_client(\n\u001b[1;32m    300\u001b[0m         service_name,\n\u001b[1;32m    301\u001b[0m         region_name\u001b[39m=\u001b[39;49mregion_name,\n\u001b[1;32m    302\u001b[0m         api_version\u001b[39m=\u001b[39;49mapi_version,\n\u001b[1;32m    303\u001b[0m         use_ssl\u001b[39m=\u001b[39;49muse_ssl,\n\u001b[1;32m    304\u001b[0m         verify\u001b[39m=\u001b[39;49mverify,\n\u001b[1;32m    305\u001b[0m         endpoint_url\u001b[39m=\u001b[39;49mendpoint_url,\n\u001b[1;32m    306\u001b[0m         aws_access_key_id\u001b[39m=\u001b[39;49maws_access_key_id,\n\u001b[1;32m    307\u001b[0m         aws_secret_access_key\u001b[39m=\u001b[39;49maws_secret_access_key,\n\u001b[1;32m    308\u001b[0m         aws_session_token\u001b[39m=\u001b[39;49maws_session_token,\n\u001b[1;32m    309\u001b[0m         config\u001b[39m=\u001b[39;49mconfig,\n\u001b[1;32m    310\u001b[0m     )\n",
      "File \u001b[0;32m~/.pyenv/versions/3.10.11/envs/llm_env/lib/python3.10/site-packages/botocore/session.py:997\u001b[0m, in \u001b[0;36mSession.create_client\u001b[0;34m(self, service_name, region_name, api_version, use_ssl, verify, endpoint_url, aws_access_key_id, aws_secret_access_key, aws_session_token, config)\u001b[0m\n\u001b[1;32m    980\u001b[0m \u001b[39mself\u001b[39m\u001b[39m.\u001b[39m_add_configured_endpoint_provider(\n\u001b[1;32m    981\u001b[0m     client_name\u001b[39m=\u001b[39mservice_name,\n\u001b[1;32m    982\u001b[0m     config_store\u001b[39m=\u001b[39mconfig_store,\n\u001b[1;32m    983\u001b[0m )\n\u001b[1;32m    985\u001b[0m client_creator \u001b[39m=\u001b[39m botocore\u001b[39m.\u001b[39mclient\u001b[39m.\u001b[39mClientCreator(\n\u001b[1;32m    986\u001b[0m     loader,\n\u001b[1;32m    987\u001b[0m     endpoint_resolver,\n\u001b[0;32m   (...)\u001b[0m\n\u001b[1;32m    995\u001b[0m     user_agent_creator\u001b[39m=\u001b[39muser_agent_creator,\n\u001b[1;32m    996\u001b[0m )\n\u001b[0;32m--> 997\u001b[0m client \u001b[39m=\u001b[39m client_creator\u001b[39m.\u001b[39;49mcreate_client(\n\u001b[1;32m    998\u001b[0m     service_name\u001b[39m=\u001b[39;49mservice_name,\n\u001b[1;32m    999\u001b[0m     region_name\u001b[39m=\u001b[39;49mregion_name,\n\u001b[1;32m   1000\u001b[0m     is_secure\u001b[39m=\u001b[39;49muse_ssl,\n\u001b[1;32m   1001\u001b[0m     endpoint_url\u001b[39m=\u001b[39;49mendpoint_url,\n\u001b[1;32m   1002\u001b[0m     verify\u001b[39m=\u001b[39;49mverify,\n\u001b[1;32m   1003\u001b[0m     credentials\u001b[39m=\u001b[39;49mcredentials,\n\u001b[1;32m   1004\u001b[0m     scoped_config\u001b[39m=\u001b[39;49m\u001b[39mself\u001b[39;49m\u001b[39m.\u001b[39;49mget_scoped_config(),\n\u001b[1;32m   1005\u001b[0m     client_config\u001b[39m=\u001b[39;49mconfig,\n\u001b[1;32m   1006\u001b[0m     api_version\u001b[39m=\u001b[39;49mapi_version,\n\u001b[1;32m   1007\u001b[0m     auth_token\u001b[39m=\u001b[39;49mauth_token,\n\u001b[1;32m   1008\u001b[0m )\n\u001b[1;32m   1009\u001b[0m monitor \u001b[39m=\u001b[39m \u001b[39mself\u001b[39m\u001b[39m.\u001b[39m_get_internal_component(\u001b[39m'\u001b[39m\u001b[39mmonitor\u001b[39m\u001b[39m'\u001b[39m)\n\u001b[1;32m   1010\u001b[0m \u001b[39mif\u001b[39;00m monitor \u001b[39mis\u001b[39;00m \u001b[39mnot\u001b[39;00m \u001b[39mNone\u001b[39;00m:\n",
      "File \u001b[0;32m~/.pyenv/versions/3.10.11/envs/llm_env/lib/python3.10/site-packages/botocore/client.py:161\u001b[0m, in \u001b[0;36mClientCreator.create_client\u001b[0;34m(self, service_name, region_name, is_secure, endpoint_url, verify, credentials, scoped_config, api_version, client_config, auth_token)\u001b[0m\n\u001b[1;32m    148\u001b[0m region_name, client_config \u001b[39m=\u001b[39m \u001b[39mself\u001b[39m\u001b[39m.\u001b[39m_normalize_fips_region(\n\u001b[1;32m    149\u001b[0m     region_name, client_config\n\u001b[1;32m    150\u001b[0m )\n\u001b[1;32m    151\u001b[0m endpoint_bridge \u001b[39m=\u001b[39m ClientEndpointBridge(\n\u001b[1;32m    152\u001b[0m     \u001b[39mself\u001b[39m\u001b[39m.\u001b[39m_endpoint_resolver,\n\u001b[1;32m    153\u001b[0m     scoped_config,\n\u001b[0;32m   (...)\u001b[0m\n\u001b[1;32m    159\u001b[0m     ),\n\u001b[1;32m    160\u001b[0m )\n\u001b[0;32m--> 161\u001b[0m client_args \u001b[39m=\u001b[39m \u001b[39mself\u001b[39;49m\u001b[39m.\u001b[39;49m_get_client_args(\n\u001b[1;32m    162\u001b[0m     service_model,\n\u001b[1;32m    163\u001b[0m     region_name,\n\u001b[1;32m    164\u001b[0m     is_secure,\n\u001b[1;32m    165\u001b[0m     endpoint_url,\n\u001b[1;32m    166\u001b[0m     verify,\n\u001b[1;32m    167\u001b[0m     credentials,\n\u001b[1;32m    168\u001b[0m     scoped_config,\n\u001b[1;32m    169\u001b[0m     client_config,\n\u001b[1;32m    170\u001b[0m     endpoint_bridge,\n\u001b[1;32m    171\u001b[0m     auth_token,\n\u001b[1;32m    172\u001b[0m     endpoints_ruleset_data,\n\u001b[1;32m    173\u001b[0m     partition_data,\n\u001b[1;32m    174\u001b[0m )\n\u001b[1;32m    175\u001b[0m service_client \u001b[39m=\u001b[39m \u001b[39mcls\u001b[39m(\u001b[39m*\u001b[39m\u001b[39m*\u001b[39mclient_args)\n\u001b[1;32m    176\u001b[0m \u001b[39mself\u001b[39m\u001b[39m.\u001b[39m_register_retries(service_client)\n",
      "File \u001b[0;32m~/.pyenv/versions/3.10.11/envs/llm_env/lib/python3.10/site-packages/botocore/client.py:520\u001b[0m, in \u001b[0;36mClientCreator._get_client_args\u001b[0;34m(self, service_model, region_name, is_secure, endpoint_url, verify, credentials, scoped_config, client_config, endpoint_bridge, auth_token, endpoints_ruleset_data, partition_data)\u001b[0m\n\u001b[1;32m    496\u001b[0m \u001b[39mdef\u001b[39;00m \u001b[39m_get_client_args\u001b[39m(\n\u001b[1;32m    497\u001b[0m     \u001b[39mself\u001b[39m,\n\u001b[1;32m    498\u001b[0m     service_model,\n\u001b[0;32m   (...)\u001b[0m\n\u001b[1;32m    509\u001b[0m     partition_data,\n\u001b[1;32m    510\u001b[0m ):\n\u001b[1;32m    511\u001b[0m     args_creator \u001b[39m=\u001b[39m ClientArgsCreator(\n\u001b[1;32m    512\u001b[0m         \u001b[39mself\u001b[39m\u001b[39m.\u001b[39m_event_emitter,\n\u001b[1;32m    513\u001b[0m         \u001b[39mself\u001b[39m\u001b[39m.\u001b[39m_user_agent,\n\u001b[0;32m   (...)\u001b[0m\n\u001b[1;32m    518\u001b[0m         user_agent_creator\u001b[39m=\u001b[39m\u001b[39mself\u001b[39m\u001b[39m.\u001b[39m_user_agent_creator,\n\u001b[1;32m    519\u001b[0m     )\n\u001b[0;32m--> 520\u001b[0m     \u001b[39mreturn\u001b[39;00m args_creator\u001b[39m.\u001b[39;49mget_client_args(\n\u001b[1;32m    521\u001b[0m         service_model,\n\u001b[1;32m    522\u001b[0m         region_name,\n\u001b[1;32m    523\u001b[0m         is_secure,\n\u001b[1;32m    524\u001b[0m         endpoint_url,\n\u001b[1;32m    525\u001b[0m         verify,\n\u001b[1;32m    526\u001b[0m         credentials,\n\u001b[1;32m    527\u001b[0m         scoped_config,\n\u001b[1;32m    528\u001b[0m         client_config,\n\u001b[1;32m    529\u001b[0m         endpoint_bridge,\n\u001b[1;32m    530\u001b[0m         auth_token,\n\u001b[1;32m    531\u001b[0m         endpoints_ruleset_data,\n\u001b[1;32m    532\u001b[0m         partition_data,\n\u001b[1;32m    533\u001b[0m     )\n",
      "File \u001b[0;32m~/.pyenv/versions/3.10.11/envs/llm_env/lib/python3.10/site-packages/botocore/args.py:100\u001b[0m, in \u001b[0;36mClientArgsCreator.get_client_args\u001b[0;34m(self, service_model, region_name, is_secure, endpoint_url, verify, credentials, scoped_config, client_config, endpoint_bridge, auth_token, endpoints_ruleset_data, partition_data)\u001b[0m\n\u001b[1;32m     85\u001b[0m \u001b[39mdef\u001b[39;00m \u001b[39mget_client_args\u001b[39m(\n\u001b[1;32m     86\u001b[0m     \u001b[39mself\u001b[39m,\n\u001b[1;32m     87\u001b[0m     service_model,\n\u001b[0;32m   (...)\u001b[0m\n\u001b[1;32m     98\u001b[0m     partition_data\u001b[39m=\u001b[39m\u001b[39mNone\u001b[39;00m,\n\u001b[1;32m     99\u001b[0m ):\n\u001b[0;32m--> 100\u001b[0m     final_args \u001b[39m=\u001b[39m \u001b[39mself\u001b[39;49m\u001b[39m.\u001b[39;49mcompute_client_args(\n\u001b[1;32m    101\u001b[0m         service_model,\n\u001b[1;32m    102\u001b[0m         client_config,\n\u001b[1;32m    103\u001b[0m         endpoint_bridge,\n\u001b[1;32m    104\u001b[0m         region_name,\n\u001b[1;32m    105\u001b[0m         endpoint_url,\n\u001b[1;32m    106\u001b[0m         is_secure,\n\u001b[1;32m    107\u001b[0m         scoped_config,\n\u001b[1;32m    108\u001b[0m     )\n\u001b[1;32m    110\u001b[0m     service_name \u001b[39m=\u001b[39m final_args[\u001b[39m'\u001b[39m\u001b[39mservice_name\u001b[39m\u001b[39m'\u001b[39m]  \u001b[39m# noqa\u001b[39;00m\n\u001b[1;32m    111\u001b[0m     parameter_validation \u001b[39m=\u001b[39m final_args[\u001b[39m'\u001b[39m\u001b[39mparameter_validation\u001b[39m\u001b[39m'\u001b[39m]\n",
      "File \u001b[0;32m~/.pyenv/versions/3.10.11/envs/llm_env/lib/python3.10/site-packages/botocore/args.py:219\u001b[0m, in \u001b[0;36mClientArgsCreator.compute_client_args\u001b[0;34m(self, service_model, client_config, endpoint_bridge, region_name, endpoint_url, is_secure, scoped_config)\u001b[0m\n\u001b[1;32m    212\u001b[0m s3_config \u001b[39m=\u001b[39m \u001b[39mself\u001b[39m\u001b[39m.\u001b[39mcompute_s3_config(client_config)\n\u001b[1;32m    214\u001b[0m configured_endpoint_url \u001b[39m=\u001b[39m \u001b[39mself\u001b[39m\u001b[39m.\u001b[39m_compute_configured_endpoint_url(\n\u001b[1;32m    215\u001b[0m     client_config\u001b[39m=\u001b[39mclient_config,\n\u001b[1;32m    216\u001b[0m     endpoint_url\u001b[39m=\u001b[39mendpoint_url,\n\u001b[1;32m    217\u001b[0m )\n\u001b[0;32m--> 219\u001b[0m endpoint_config \u001b[39m=\u001b[39m \u001b[39mself\u001b[39;49m\u001b[39m.\u001b[39;49m_compute_endpoint_config(\n\u001b[1;32m    220\u001b[0m     service_name\u001b[39m=\u001b[39;49mservice_name,\n\u001b[1;32m    221\u001b[0m     region_name\u001b[39m=\u001b[39;49mregion_name,\n\u001b[1;32m    222\u001b[0m     endpoint_url\u001b[39m=\u001b[39;49mconfigured_endpoint_url,\n\u001b[1;32m    223\u001b[0m     is_secure\u001b[39m=\u001b[39;49mis_secure,\n\u001b[1;32m    224\u001b[0m     endpoint_bridge\u001b[39m=\u001b[39;49mendpoint_bridge,\n\u001b[1;32m    225\u001b[0m     s3_config\u001b[39m=\u001b[39;49ms3_config,\n\u001b[1;32m    226\u001b[0m )\n\u001b[1;32m    227\u001b[0m endpoint_variant_tags \u001b[39m=\u001b[39m endpoint_config[\u001b[39m'\u001b[39m\u001b[39mmetadata\u001b[39m\u001b[39m'\u001b[39m]\u001b[39m.\u001b[39mget(\u001b[39m'\u001b[39m\u001b[39mtags\u001b[39m\u001b[39m'\u001b[39m, [])\n\u001b[1;32m    229\u001b[0m \u001b[39m# Some third-party libraries expect the final user-agent string in\u001b[39;00m\n\u001b[1;32m    230\u001b[0m \u001b[39m# ``client.meta.config.user_agent``. To maintain backwards\u001b[39;00m\n\u001b[1;32m    231\u001b[0m \u001b[39m# compatibility, the preliminary user-agent string (before any Config\u001b[39;00m\n\u001b[1;32m    232\u001b[0m \u001b[39m# object modifications and without request-specific user-agent\u001b[39;00m\n\u001b[1;32m    233\u001b[0m \u001b[39m# components) is stored in the new Config object's ``user_agent``\u001b[39;00m\n\u001b[1;32m    234\u001b[0m \u001b[39m# property but not used by Botocore itself.\u001b[39;00m\n",
      "File \u001b[0;32m~/.pyenv/versions/3.10.11/envs/llm_env/lib/python3.10/site-packages/botocore/args.py:369\u001b[0m, in \u001b[0;36mClientArgsCreator._compute_endpoint_config\u001b[0;34m(self, service_name, region_name, endpoint_url, is_secure, endpoint_bridge, s3_config)\u001b[0m\n\u001b[1;32m    367\u001b[0m \u001b[39mif\u001b[39;00m service_name \u001b[39m==\u001b[39m \u001b[39m'\u001b[39m\u001b[39msts\u001b[39m\u001b[39m'\u001b[39m:\n\u001b[1;32m    368\u001b[0m     \u001b[39mreturn\u001b[39;00m \u001b[39mself\u001b[39m\u001b[39m.\u001b[39m_compute_sts_endpoint_config(\u001b[39m*\u001b[39m\u001b[39m*\u001b[39mresolve_endpoint_kwargs)\n\u001b[0;32m--> 369\u001b[0m \u001b[39mreturn\u001b[39;00m \u001b[39mself\u001b[39;49m\u001b[39m.\u001b[39;49m_resolve_endpoint(\u001b[39m*\u001b[39;49m\u001b[39m*\u001b[39;49mresolve_endpoint_kwargs)\n",
      "File \u001b[0;32m~/.pyenv/versions/3.10.11/envs/llm_env/lib/python3.10/site-packages/botocore/args.py:474\u001b[0m, in \u001b[0;36mClientArgsCreator._resolve_endpoint\u001b[0;34m(self, service_name, region_name, endpoint_url, is_secure, endpoint_bridge)\u001b[0m\n\u001b[1;32m    466\u001b[0m \u001b[39mdef\u001b[39;00m \u001b[39m_resolve_endpoint\u001b[39m(\n\u001b[1;32m    467\u001b[0m     \u001b[39mself\u001b[39m,\n\u001b[1;32m    468\u001b[0m     service_name,\n\u001b[0;32m   (...)\u001b[0m\n\u001b[1;32m    472\u001b[0m     endpoint_bridge,\n\u001b[1;32m    473\u001b[0m ):\n\u001b[0;32m--> 474\u001b[0m     \u001b[39mreturn\u001b[39;00m endpoint_bridge\u001b[39m.\u001b[39;49mresolve(\n\u001b[1;32m    475\u001b[0m         service_name, region_name, endpoint_url, is_secure\n\u001b[1;32m    476\u001b[0m     )\n",
      "File \u001b[0;32m~/.pyenv/versions/3.10.11/envs/llm_env/lib/python3.10/site-packages/botocore/client.py:625\u001b[0m, in \u001b[0;36mClientEndpointBridge.resolve\u001b[0;34m(self, service_name, region_name, endpoint_url, is_secure)\u001b[0m\n\u001b[1;32m    619\u001b[0m use_dualstack_endpoint \u001b[39m=\u001b[39m \u001b[39mself\u001b[39m\u001b[39m.\u001b[39m_resolve_use_dualstack_endpoint(\n\u001b[1;32m    620\u001b[0m     service_name\n\u001b[1;32m    621\u001b[0m )\n\u001b[1;32m    622\u001b[0m use_fips_endpoint \u001b[39m=\u001b[39m \u001b[39mself\u001b[39m\u001b[39m.\u001b[39m_resolve_endpoint_variant_config_var(\n\u001b[1;32m    623\u001b[0m     \u001b[39m'\u001b[39m\u001b[39muse_fips_endpoint\u001b[39m\u001b[39m'\u001b[39m\n\u001b[1;32m    624\u001b[0m )\n\u001b[0;32m--> 625\u001b[0m resolved \u001b[39m=\u001b[39m \u001b[39mself\u001b[39;49m\u001b[39m.\u001b[39;49mendpoint_resolver\u001b[39m.\u001b[39;49mconstruct_endpoint(\n\u001b[1;32m    626\u001b[0m     service_name,\n\u001b[1;32m    627\u001b[0m     region_name,\n\u001b[1;32m    628\u001b[0m     use_dualstack_endpoint\u001b[39m=\u001b[39;49muse_dualstack_endpoint,\n\u001b[1;32m    629\u001b[0m     use_fips_endpoint\u001b[39m=\u001b[39;49muse_fips_endpoint,\n\u001b[1;32m    630\u001b[0m )\n\u001b[1;32m    632\u001b[0m \u001b[39m# If we can't resolve the region, we'll attempt to get a global\u001b[39;00m\n\u001b[1;32m    633\u001b[0m \u001b[39m# endpoint for non-regionalized services (iam, route53, etc)\u001b[39;00m\n\u001b[1;32m    634\u001b[0m \u001b[39mif\u001b[39;00m \u001b[39mnot\u001b[39;00m resolved:\n\u001b[1;32m    635\u001b[0m     \u001b[39m# TODO: fallback partition_name should be configurable in the\u001b[39;00m\n\u001b[1;32m    636\u001b[0m     \u001b[39m# future for users to define as needed.\u001b[39;00m\n",
      "File \u001b[0;32m~/.pyenv/versions/3.10.11/envs/llm_env/lib/python3.10/site-packages/botocore/regions.py:229\u001b[0m, in \u001b[0;36mEndpointResolver.construct_endpoint\u001b[0;34m(self, service_name, region_name, partition_name, use_dualstack_endpoint, use_fips_endpoint)\u001b[0m\n\u001b[1;32m    224\u001b[0m \u001b[39mif\u001b[39;00m use_dualstack_endpoint \u001b[39mand\u001b[39;00m (\n\u001b[1;32m    225\u001b[0m     partition[\u001b[39m'\u001b[39m\u001b[39mpartition\u001b[39m\u001b[39m'\u001b[39m]\n\u001b[1;32m    226\u001b[0m     \u001b[39min\u001b[39;00m \u001b[39mself\u001b[39m\u001b[39m.\u001b[39m_UNSUPPORTED_DUALSTACK_PARTITIONS\n\u001b[1;32m    227\u001b[0m ):\n\u001b[1;32m    228\u001b[0m     \u001b[39mcontinue\u001b[39;00m\n\u001b[0;32m--> 229\u001b[0m result \u001b[39m=\u001b[39m \u001b[39mself\u001b[39;49m\u001b[39m.\u001b[39;49m_endpoint_for_partition(\n\u001b[1;32m    230\u001b[0m     partition,\n\u001b[1;32m    231\u001b[0m     service_name,\n\u001b[1;32m    232\u001b[0m     region_name,\n\u001b[1;32m    233\u001b[0m     use_dualstack_endpoint,\n\u001b[1;32m    234\u001b[0m     use_fips_endpoint,\n\u001b[1;32m    235\u001b[0m )\n\u001b[1;32m    236\u001b[0m \u001b[39mif\u001b[39;00m result:\n\u001b[1;32m    237\u001b[0m     \u001b[39mreturn\u001b[39;00m result\n",
      "File \u001b[0;32m~/.pyenv/versions/3.10.11/envs/llm_env/lib/python3.10/site-packages/botocore/regions.py:277\u001b[0m, in \u001b[0;36mEndpointResolver._endpoint_for_partition\u001b[0;34m(self, partition, service_name, region_name, use_dualstack_endpoint, use_fips_endpoint, force_partition)\u001b[0m\n\u001b[1;32m    275\u001b[0m         region_name \u001b[39m=\u001b[39m service_data[\u001b[39m'\u001b[39m\u001b[39mpartitionEndpoint\u001b[39m\u001b[39m'\u001b[39m]\n\u001b[1;32m    276\u001b[0m     \u001b[39melse\u001b[39;00m:\n\u001b[0;32m--> 277\u001b[0m         \u001b[39mraise\u001b[39;00m NoRegionError()\n\u001b[1;32m    279\u001b[0m resolve_kwargs \u001b[39m=\u001b[39m {\n\u001b[1;32m    280\u001b[0m     \u001b[39m'\u001b[39m\u001b[39mpartition\u001b[39m\u001b[39m'\u001b[39m: partition,\n\u001b[1;32m    281\u001b[0m     \u001b[39m'\u001b[39m\u001b[39mservice_name\u001b[39m\u001b[39m'\u001b[39m: service_name,\n\u001b[0;32m   (...)\u001b[0m\n\u001b[1;32m    285\u001b[0m     \u001b[39m'\u001b[39m\u001b[39muse_fips_endpoint\u001b[39m\u001b[39m'\u001b[39m: use_fips_endpoint,\n\u001b[1;32m    286\u001b[0m }\n\u001b[1;32m    288\u001b[0m \u001b[39m# Attempt to resolve the exact region for this partition.\u001b[39;00m\n",
      "\u001b[0;31mNoRegionError\u001b[0m: You must specify a region."
     ]
    }
   ],
   "source": []
  }
 ],
 "metadata": {
  "kernelspec": {
   "display_name": "llm_env",
   "language": "python",
   "name": "python3"
  },
  "language_info": {
   "codemirror_mode": {
    "name": "ipython",
    "version": 3
   },
   "file_extension": ".py",
   "mimetype": "text/x-python",
   "name": "python",
   "nbconvert_exporter": "python",
   "pygments_lexer": "ipython3",
   "version": "3.10.11"
  }
 },
 "nbformat": 4,
 "nbformat_minor": 2
}
