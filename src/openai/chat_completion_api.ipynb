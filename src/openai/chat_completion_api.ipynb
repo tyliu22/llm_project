{
 "cells": [
  {
   "cell_type": "code",
   "execution_count": 5,
   "metadata": {},
   "outputs": [],
   "source": [
    "# from dotenv import load_dotenv\n",
    "# load_dotenv()  # take environment variables from .env.\n",
    "import os\n",
    "import pprint\n",
    "from openai import OpenAI\n",
    "pp = pprint.PrettyPrinter(indent=4)"
   ]
  },
  {
   "cell_type": "code",
   "execution_count": 3,
   "metadata": {},
   "outputs": [
    {
     "name": "stdout",
     "output_type": "stream",
     "text": [
      "ChatCompletion(id='chatcmpl-A8i2UKSaJdcarNo1I4FGQEYJpTzUa', choices=[Choice(finish_reason='stop', index=0, logprobs=None, message=ChatCompletionMessage(content='This is a test.', role='assistant', function_call=None, tool_calls=None, refusal=None))], created=1726639274, model='gpt-3.5-turbo-0125', object='chat.completion', system_fingerprint=None, usage=CompletionUsage(completion_tokens=5, prompt_tokens=12, total_tokens=17, completion_tokens_details={'reasoning_tokens': 0}))\n",
      "This is a test.\n"
     ]
    }
   ],
   "source": [
    "# chat\n",
    "client = OpenAI(\n",
    "    # This is the default and can be omitted\n",
    "    # api_key = \"sk-a_fvDeIsOlY6c6CXtstJX8xj184sxguVy_JHhd8Cd8T3BlbkFJXFC0XnsLErwNmfOuG_8sFSDwwmAbMRkyDe3l0xyA8A\",\n",
    "    api_key=os.environ.get(\"OPENAI_API_KEY\"),\n",
    ")\n",
    "chat_completion = client.chat.completions.create(\n",
    "    messages=[\n",
    "        {\n",
    "            \"role\": \"user\",\n",
    "            \"content\": \"Say this is a test\",\n",
    "        }\n",
    "    ],\n",
    "    model=\"gpt-3.5-turbo\",\n",
    "    temperature=0.2\n",
    ")\n",
    "\n",
    "print(chat_completion)\n",
    "print(chat_completion.choices[0].message.content)"
   ]
  },
  {
   "cell_type": "markdown",
   "metadata": {},
   "source": [
    "### streaming"
   ]
  },
  {
   "cell_type": "code",
   "execution_count": 4,
   "metadata": {},
   "outputs": [
    {
     "name": "stdout",
     "output_type": "stream",
     "text": [
      "ChatCompletionChunk(id='chatcmpl-A8i2Y7sILQn6KZx7uk6CxQJ7PogA1', choices=[Choice(delta=ChoiceDelta(content='', function_call=None, role='assistant', tool_calls=None, refusal=None), finish_reason=None, index=0, logprobs=None)], created=1726639278, model='gpt-4-0613', object='chat.completion.chunk', system_fingerprint=None, usage=None)\n",
      "\n",
      "ChatCompletionChunk(id='chatcmpl-A8i2Y7sILQn6KZx7uk6CxQJ7PogA1', choices=[Choice(delta=ChoiceDelta(content='This', function_call=None, role=None, tool_calls=None), finish_reason=None, index=0, logprobs=None)], created=1726639278, model='gpt-4-0613', object='chat.completion.chunk', system_fingerprint=None, usage=None)\n",
      "\n",
      "ChatCompletionChunk(id='chatcmpl-A8i2Y7sILQn6KZx7uk6CxQJ7PogA1', choices=[Choice(delta=ChoiceDelta(content=' is', function_call=None, role=None, tool_calls=None), finish_reason=None, index=0, logprobs=None)], created=1726639278, model='gpt-4-0613', object='chat.completion.chunk', system_fingerprint=None, usage=None)\n",
      "\n",
      "ChatCompletionChunk(id='chatcmpl-A8i2Y7sILQn6KZx7uk6CxQJ7PogA1', choices=[Choice(delta=ChoiceDelta(content=' a', function_call=None, role=None, tool_calls=None), finish_reason=None, index=0, logprobs=None)], created=1726639278, model='gpt-4-0613', object='chat.completion.chunk', system_fingerprint=None, usage=None)\n",
      "\n",
      "ChatCompletionChunk(id='chatcmpl-A8i2Y7sILQn6KZx7uk6CxQJ7PogA1', choices=[Choice(delta=ChoiceDelta(content=' test', function_call=None, role=None, tool_calls=None), finish_reason=None, index=0, logprobs=None)], created=1726639278, model='gpt-4-0613', object='chat.completion.chunk', system_fingerprint=None, usage=None)\n",
      "\n",
      "ChatCompletionChunk(id='chatcmpl-A8i2Y7sILQn6KZx7uk6CxQJ7PogA1', choices=[Choice(delta=ChoiceDelta(content='.', function_call=None, role=None, tool_calls=None), finish_reason=None, index=0, logprobs=None)], created=1726639278, model='gpt-4-0613', object='chat.completion.chunk', system_fingerprint=None, usage=None)\n",
      "\n",
      "ChatCompletionChunk(id='chatcmpl-A8i2Y7sILQn6KZx7uk6CxQJ7PogA1', choices=[Choice(delta=ChoiceDelta(content=None, function_call=None, role=None, tool_calls=None), finish_reason='stop', index=0, logprobs=None)], created=1726639278, model='gpt-4-0613', object='chat.completion.chunk', system_fingerprint=None, usage=None)\n"
     ]
    }
   ],
   "source": [
    "from openai import OpenAI\n",
    "\n",
    "client = OpenAI(\n",
    "    api_key=os.environ.get(\"OPENAI_API_KEY\"),\n",
    ")\n",
    "\n",
    "stream = client.chat.completions.create(\n",
    "    model=\"gpt-4\",\n",
    "    messages=[{\"role\": \"user\", \"content\": \"Say this is a test\"}],\n",
    "    stream=True,\n",
    ")\n",
    "# print(stream)\n",
    "for chunk in stream:\n",
    "    print(chunk)\n",
    "    if chunk.choices[0].delta.content is not None:\n",
    "        print(\"\")\n",
    "        # print(chunk.choices[0].delta.content, end=\"\")\n"
   ]
  },
  {
   "cell_type": "code",
   "execution_count": 5,
   "metadata": {},
   "outputs": [
    {
     "ename": "ModuleNotFoundError",
     "evalue": "No module named 'gradio'",
     "output_type": "error",
     "traceback": [
      "\u001b[0;31m---------------------------------------------------------------------------\u001b[0m",
      "\u001b[0;31mModuleNotFoundError\u001b[0m                       Traceback (most recent call last)",
      "Cell \u001b[0;32mIn[5], line 2\u001b[0m\n\u001b[1;32m      1\u001b[0m \u001b[38;5;28;01mfrom\u001b[39;00m \u001b[38;5;21;01mopenai\u001b[39;00m \u001b[38;5;28;01mimport\u001b[39;00m OpenAI\n\u001b[0;32m----> 2\u001b[0m \u001b[38;5;28;01mimport\u001b[39;00m \u001b[38;5;21;01mgradio\u001b[39;00m \u001b[38;5;28;01mas\u001b[39;00m \u001b[38;5;21;01mgr\u001b[39;00m\n\u001b[1;32m      4\u001b[0m client \u001b[38;5;241m=\u001b[39m OpenAI(\n\u001b[1;32m      5\u001b[0m     api_key\u001b[38;5;241m=\u001b[39mos\u001b[38;5;241m.\u001b[39menviron\u001b[38;5;241m.\u001b[39mget(\u001b[38;5;124m\"\u001b[39m\u001b[38;5;124mOPENAI_API_KEY\u001b[39m\u001b[38;5;124m\"\u001b[39m),\n\u001b[1;32m      6\u001b[0m )\n\u001b[1;32m      8\u001b[0m \u001b[38;5;28;01mdef\u001b[39;00m \u001b[38;5;21mpredict\u001b[39m(message, history):\n",
      "\u001b[0;31mModuleNotFoundError\u001b[0m: No module named 'gradio'"
     ]
    }
   ],
   "source": [
    "from openai import OpenAI\n",
    "import gradio as gr\n",
    "\n",
    "client = OpenAI(\n",
    "    api_key=os.environ.get(\"OPENAI_API_KEY\"),\n",
    ")\n",
    "\n",
    "def predict(message, history):\n",
    "    history_openai_format = []\n",
    "    for human, assistant in history:\n",
    "        history_openai_format.append({\"role\": \"user\", \"content\": human })\n",
    "        history_openai_format.append({\"role\": \"assistant\", \"content\":assistant})\n",
    "    history_openai_format.append({\"role\": \"user\", \"content\": message})\n",
    "  \n",
    "    response = client.chat.completions.create(model='gpt-3.5-turbo',\n",
    "    messages= history_openai_format,\n",
    "    temperature=1.0,\n",
    "    stream=True)\n",
    "\n",
    "    partial_message = \"\"\n",
    "    for chunk in response:\n",
    "        if chunk.choices[0].delta.content is not None:\n",
    "              partial_message = partial_message + chunk.choices[0].delta.content\n",
    "              yield partial_message\n",
    "\n",
    "gr.ChatInterface(predict).launch()"
   ]
  }
 ],
 "metadata": {
  "kernelspec": {
   "display_name": "llm_env",
   "language": "python",
   "name": "python3"
  },
  "language_info": {
   "codemirror_mode": {
    "name": "ipython",
    "version": 3
   },
   "file_extension": ".py",
   "mimetype": "text/x-python",
   "name": "python",
   "nbconvert_exporter": "python",
   "pygments_lexer": "ipython3",
   "version": "3.10.11"
  }
 },
 "nbformat": 4,
 "nbformat_minor": 2
}
